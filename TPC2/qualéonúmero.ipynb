{
 "cells": [
  {
   "cell_type": "markdown",
   "id": "bd8e013e",
   "metadata": {},
   "source": [
    "# Manifesto:Trabalho Prático 2"
   ]
  },
  {
   "cell_type": "markdown",
   "id": "9cf90b17",
   "metadata": {},
   "source": [
    "__Autor:__ Bruna Daniela Leite Matos, A95827\n",
    "\n",
    "__Identificador:__ TP2\n",
    "\n",
    "__Título:__ Descobre o número\n",
    "\n",
    " **Data de início:** 2021-10-14\n",
    " \n",
    " **Data de fim:** 2021-10-20\n",
    " \n",
    " **Supervisor:** José Carlos Ramalho, https://www.di.uminho.pt/~jcr/thesup-v2.php\n",
    " "
   ]
  },
  {
   "cell_type": "markdown",
   "id": "fb950e08",
   "metadata": {},
   "source": [
    "# Resumo"
   ]
  },
  {
   "cell_type": "markdown",
   "id": "0bd8c239",
   "metadata": {},
   "source": [
    "   Este trabalho prático surgiu com um propósito de criar um códico que nos permitisse descobrir qualquer número dentro de um intervalo de 1 a 100 no **mínimo de tentativas**.\n",
    "   \n",
    "   Começamos por usar um print de forma a que apareça na tela a informação que o número a pensar se localize entre 0 e 100. Na próxima fase colocamos uma variável b igual a 1 de forma a que quando chegamos ao número pretendido e imprimimos \"igual\" o programa **pára** de correr pois temos que **b=13** e o while está definido para quando b for **igual a 1**.\n",
    "   \n",
    "   A variável identificada por c vai ser obtida pela **soma entre o calor mínimo do intervalo e metade da diferença entre o valor máximo e o valor mínimo**. Esta operação vai nos permitir obter o valor médio em cada intervalo e vai ser usado para questionar se o valor pretendido é igual, inferior ou superior ao pretendido.\n",
    "   \n",
    "   A variável a vai ser aquela que vai ficar com a resposta do jogador. Se for igual o ciclo pára, se for superior ou inferior o ciclo continua de forma a alterar os intervalos que cada vez se tornam mais pequenos. Se colocamos que o valor **é superior alteramos o mínimo**, se colocamos **inferior alteramos o máximo do intervalo**.\n",
    "   \n",
    "   Para ter uma noção se o algoritmo estava a funcionar de forma adquada e se usamos o menor número de tentativa pus um **contador** f que sempre que o utilizador dá informações sobre o número que pretende adiciona 1 e assim sabemos em quantas tentativas conseguimos alcançar o número pretendido."
   ]
  }
 ],
 "metadata": {
  "kernelspec": {
   "display_name": "Python 3",
   "language": "python",
   "name": "python3"
  },
  "language_info": {
   "codemirror_mode": {
    "name": "ipython",
    "version": 3
   },
   "file_extension": ".py",
   "mimetype": "text/x-python",
   "name": "python",
   "nbconvert_exporter": "python",
   "pygments_lexer": "ipython3",
   "version": "3.8.8"
  }
 },
 "nbformat": 4,
 "nbformat_minor": 5
}
